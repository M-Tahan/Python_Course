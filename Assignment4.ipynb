{
  "cells": [
    {
      "cell_type": "markdown",
      "id": "fa6c7ffa",
      "metadata": {
        "id": "fa6c7ffa"
      },
      "source": [
        "# Task1\n",
        "Create a Class with instance attributes.\n",
        "\n",
        "Write a Python program to create a Vehicle class with max_speed and mileage instance attributes."
      ]
    },
    {
      "cell_type": "code",
      "execution_count": 2,
      "id": "96a92f27",
      "metadata": {
        "id": "96a92f27"
      },
      "outputs": [],
      "source": [
        "class Vehicle:\n",
        "    def __init__(self, max_speed, mileage):\n",
        "        self.max_speed = max_speed\n",
        "        self.mileage = mileage\n",
        "\n",
        "car = Vehicle(200,10000)\n"
      ]
    },
    {
      "cell_type": "markdown",
      "id": "5250b0eb",
      "metadata": {
        "id": "5250b0eb"
      },
      "source": [
        "# Task2\n",
        "Create a child class Bus that will inherit all the variables and methods of the Vehicle class."
      ]
    },
    {
      "cell_type": "code",
      "execution_count": 3,
      "id": "77f30516",
      "metadata": {
        "id": "77f30516"
      },
      "outputs": [],
      "source": [
        "class Bus(Vehicle):\n",
        "    def __init__(self, max_speed, mileage):\n",
        "        super().__init__(max_speed, mileage)\n",
        "\n",
        "bus = Bus(180,12000)"
      ]
    },
    {
      "cell_type": "markdown",
      "id": "48dd7ccf",
      "metadata": {
        "id": "48dd7ccf"
      },
      "source": [
        "# Task3\n",
        "Class Inheritance\n",
        "\n",
        "Create a Bus class that inherits from the Vehicle class. Give the capacity argument of Bus.seating_capacity() a default value of 50.\n"
      ]
    },
    {
      "cell_type": "code",
      "execution_count": 4,
      "id": "59f50f04",
      "metadata": {
        "id": "59f50f04"
      },
      "outputs": [],
      "source": [
        "class Bus(Vehicle):\n",
        "    def __init__(self, max_speed, mileage, seating_capacity = 50):\n",
        "        super().__init__(max_speed, mileage)\n",
        "        self.seating_capacity = seating_capacity\n",
        "\n",
        "bus = Bus(180,10000)"
      ]
    },
    {
      "cell_type": "markdown",
      "id": "ecbeb9b4",
      "metadata": {
        "id": "ecbeb9b4"
      },
      "source": [
        "# Task4\n",
        "Define a property that must have the same value for every class instance (object)\n",
        "\n",
        "Define a class attribute”color” with a default value white. I.e., Every Vehicle should be white.\n"
      ]
    },
    {
      "cell_type": "code",
      "execution_count": 5,
      "id": "e12721e9",
      "metadata": {
        "id": "e12721e9"
      },
      "outputs": [],
      "source": [
        "class Vehicle:\n",
        "    def __init__(self, max_speed, mileage, color = \"white\"):\n",
        "        self.max_speed = max_speed\n",
        "        self.mileage = mileage\n",
        "        self.color = \"white\"\n",
        "\n",
        "car = Vehicle(200,10000)"
      ]
    },
    {
      "cell_type": "markdown",
      "id": "6167344d",
      "metadata": {
        "id": "6167344d"
      },
      "source": [
        "# Task5\n",
        "Check type of an object\n",
        "\n",
        "Write a program to determine which class a given Bus object belongs to.\n"
      ]
    },
    {
      "cell_type": "code",
      "execution_count": 6,
      "id": "1914e789",
      "metadata": {
        "id": "1914e789",
        "colab": {
          "base_uri": "https://localhost:8080/",
          "height": 104
        },
        "outputId": "2d087af4-da09-4154-8eae-63148b41e748"
      },
      "outputs": [
        {
          "output_type": "execute_result",
          "data": {
            "text/plain": [
              "__main__.Bus"
            ],
            "text/html": [
              "<div style=\"max-width:800px; border: 1px solid var(--colab-border-color);\"><style>\n",
              "      pre.function-repr-contents {\n",
              "        overflow-x: auto;\n",
              "        padding: 8px 12px;\n",
              "        max-height: 500px;\n",
              "      }\n",
              "\n",
              "      pre.function-repr-contents.function-repr-contents-collapsed {\n",
              "        cursor: pointer;\n",
              "        max-height: 100px;\n",
              "      }\n",
              "    </style>\n",
              "    <pre style=\"white-space: initial; background:\n",
              "         var(--colab-secondary-surface-color); padding: 8px 12px;\n",
              "         border-bottom: 1px solid var(--colab-border-color);\"><b>Bus</b><br/>def __init__(max_speed, mileage, seating_capacity=50)</pre><pre class=\"function-repr-contents function-repr-contents-collapsed\" style=\"\"><a class=\"filepath\" style=\"display:none\" href=\"#\"></a>&lt;no docstring&gt;</pre></div>"
            ]
          },
          "metadata": {},
          "execution_count": 6
        }
      ],
      "source": [
        "type(bus)"
      ]
    },
    {
      "cell_type": "markdown",
      "id": "9ce9b708",
      "metadata": {
        "id": "9ce9b708"
      },
      "source": [
        "# Task6\n",
        "Determine if School_bus is also an instance of the Vehicle class."
      ]
    },
    {
      "cell_type": "code",
      "execution_count": 7,
      "id": "da5b7f1a",
      "metadata": {
        "id": "da5b7f1a",
        "colab": {
          "base_uri": "https://localhost:8080/"
        },
        "outputId": "0534d0b2-6983-41dc-8bde-2b51321f89f4"
      },
      "outputs": [
        {
          "output_type": "execute_result",
          "data": {
            "text/plain": [
              "False"
            ]
          },
          "metadata": {},
          "execution_count": 7
        }
      ],
      "source": [
        "bus = Bus(180,10000)\n",
        "isinstance(bus, Vehicle)"
      ]
    }
  ],
  "metadata": {
    "kernelspec": {
      "display_name": "Python 3 (ipykernel)",
      "language": "python",
      "name": "python3"
    },
    "language_info": {
      "codemirror_mode": {
        "name": "ipython",
        "version": 3
      },
      "file_extension": ".py",
      "mimetype": "text/x-python",
      "name": "python",
      "nbconvert_exporter": "python",
      "pygments_lexer": "ipython3",
      "version": "3.10.9"
    },
    "colab": {
      "provenance": []
    }
  },
  "nbformat": 4,
  "nbformat_minor": 5
}