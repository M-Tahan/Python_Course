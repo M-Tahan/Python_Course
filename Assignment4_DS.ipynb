{
  "cells": [
    {
      "cell_type": "markdown",
      "id": "eec459d0",
      "metadata": {
        "id": "eec459d0"
      },
      "source": [
        "#### 1. Write a Pandas program to create and display a one-dimensional array-like object containing an array of data using Pandas module.\n"
      ]
    },
    {
      "cell_type": "code",
      "execution_count": 2,
      "id": "915439bc",
      "metadata": {
        "colab": {
          "base_uri": "https://localhost:8080/"
        },
        "id": "915439bc",
        "outputId": "6ece24a9-deab-4a40-8828-9bea3af291a5"
      },
      "outputs": [
        {
          "output_type": "stream",
          "name": "stdout",
          "text": [
            "0    1\n",
            "1    2\n",
            "2    3\n",
            "3    4\n",
            "4    5\n",
            "dtype: int64\n"
          ]
        }
      ],
      "source": [
        "import pandas as pd\n",
        "a = [1,2,3,4,5]\n",
        "s = pd.Series(a)\n",
        "print(s)"
      ]
    },
    {
      "cell_type": "markdown",
      "id": "96c7e3cf",
      "metadata": {
        "id": "96c7e3cf"
      },
      "source": [
        "#### 2. Write a Pandas program to convert a Panda module Series to Python list and it's type.\n"
      ]
    },
    {
      "cell_type": "code",
      "execution_count": 5,
      "id": "1bb56b7f",
      "metadata": {
        "colab": {
          "base_uri": "https://localhost:8080/"
        },
        "id": "1bb56b7f",
        "outputId": "a176a880-a540-4e0d-c79a-7fdc6da74df9"
      },
      "outputs": [
        {
          "output_type": "stream",
          "name": "stdout",
          "text": [
            "[1, 2, 3, 4, 5]\n",
            "<class 'list'>\n"
          ]
        }
      ],
      "source": [
        "s = pd.Series([1,2,3,4,5])\n",
        "a = list(s)\n",
        "print(a)\n",
        "print(type(a))"
      ]
    },
    {
      "cell_type": "markdown",
      "id": "04eaf136",
      "metadata": {
        "id": "04eaf136"
      },
      "source": [
        "#### 3. Write a Pandas program to compare the elements of the two Pandas Series.\n"
      ]
    },
    {
      "cell_type": "code",
      "execution_count": 20,
      "id": "9d287298",
      "metadata": {
        "colab": {
          "base_uri": "https://localhost:8080/"
        },
        "id": "9d287298",
        "outputId": "f1a7fae7-8356-47ae-a616-6533bf314b1a"
      },
      "outputs": [
        {
          "output_type": "stream",
          "name": "stdout",
          "text": [
            "0     True\n",
            "1    False\n",
            "2    False\n",
            "3    False\n",
            "4    False\n",
            "dtype: bool\n"
          ]
        }
      ],
      "source": [
        "s = pd.Series([1,2,3,4,5])\n",
        "s1 = pd.Series([1,3,4,5,6])\n",
        "print(s1 == s)"
      ]
    },
    {
      "cell_type": "markdown",
      "id": "bda71883",
      "metadata": {
        "id": "bda71883"
      },
      "source": [
        "#### 4. Write a Pandas program to change the data type of given a column or a Series."
      ]
    },
    {
      "cell_type": "code",
      "execution_count": 7,
      "id": "25373275",
      "metadata": {
        "colab": {
          "base_uri": "https://localhost:8080/"
        },
        "id": "25373275",
        "outputId": "1531c501-4b54-4f57-db24-aae5a71c0d45"
      },
      "outputs": [
        {
          "output_type": "stream",
          "name": "stdout",
          "text": [
            "0    1.0\n",
            "1    2.0\n",
            "2    3.0\n",
            "3    4.0\n",
            "4    5.0\n",
            "dtype: float64\n"
          ]
        }
      ],
      "source": [
        "s = pd.Series([1,2,3,4,5])\n",
        "s = s.astype('float')\n",
        "print(s)"
      ]
    },
    {
      "cell_type": "markdown",
      "id": "6ca8c61d",
      "metadata": {
        "id": "6ca8c61d"
      },
      "source": [
        "#### 5. Write a Pandas program to get the first 3 rows of a given DataFrame. Sample Python dictionary data and list labels:\n",
        "    exam_data = {'name': ['Anastasia', 'Dima', 'Katherine', 'James', 'Emily', 'Michael',\n",
        "    'Matthew', 'Laura', 'Kevin', 'Jonas'],\n",
        "    'score': [12.5, 9, 16.5, np.nan, 9, 20, 14.5, np.nan, 8, 19],\n",
        "    'attempts': [1, 3, 2, 3, 2, 3, 1, 1, 2, 1],\n",
        "    'qualify': ['yes', 'no', 'yes', 'no', 'no', 'yes', 'yes', 'no', 'no', 'yes']}\n",
        "    labels = ['a', 'b', 'c', 'd', 'e', 'f', 'g', 'h', 'i', 'j']\n",
        "    \n",
        "#### Expected Output:\n",
        "    First three rows of the data frame:\n",
        "    attempts name qualify score\n",
        "    a 1 Anastasia yes 12.5\n",
        "    b 3 Dima no 9.0\n",
        "    c 2 Katherine yes 16.5"
      ]
    },
    {
      "cell_type": "code",
      "execution_count": 31,
      "id": "52b1b797",
      "metadata": {
        "colab": {
          "base_uri": "https://localhost:8080/"
        },
        "id": "52b1b797",
        "outputId": "cb4a3bd0-13ee-4f73-ef1c-0d3c82949dd9"
      },
      "outputs": [
        {
          "output_type": "stream",
          "name": "stdout",
          "text": [
            "        name  score  attempts qualify\n",
            "a  Anastasia   12.5         1     yes\n",
            "b       Dima    9.0         3      no\n",
            "c  Katherine   16.5         2     yes\n",
            "d      James    NaN         3      no\n",
            "e      Emily    9.0         2      no\n",
            "f    Michael   20.0         3     yes\n",
            "g    Matthew   14.5         1     yes\n",
            "h      Laura    NaN         1      no\n",
            "i      Kevin    8.0         2      no\n",
            "j      Jonas   19.0         1     yes\n"
          ]
        }
      ],
      "source": [
        "import numpy as np\n",
        "exam_data = {'name': ['Anastasia', 'Dima', 'Katherine', 'James', 'Emily', 'Michael',\n",
        "'Matthew', 'Laura', 'Kevin', 'Jonas'],\n",
        "'score': [12.5, 9, 16.5, np.nan, 9, 20, 14.5, np.nan, 8, 19],\n",
        "'attempts': [1, 3, 2, 3, 2, 3, 1, 1, 2, 1],\n",
        "'qualify': ['yes', 'no', 'yes', 'no', 'no', 'yes', 'yes', 'no', 'no', 'yes']}\n",
        "labels = ['a', 'b', 'c', 'd', 'e', 'f', 'g', 'h', 'i', 'j']\n",
        "res = pd.DataFrame(exam_data , index=labels)\n",
        "print(res)"
      ]
    },
    {
      "cell_type": "markdown",
      "id": "ef16fee3",
      "metadata": {
        "id": "ef16fee3"
      },
      "source": [
        "#### 6. Write a Pandas program to display the default index and set a column as an Index in a given dataframe.\n",
        "![image.png](attachment:image.png)"
      ]
    },
    {
      "cell_type": "code",
      "execution_count": 16,
      "id": "18d15d20",
      "metadata": {
        "colab": {
          "base_uri": "https://localhost:8080/"
        },
        "id": "18d15d20",
        "outputId": "cceca3bf-4744-410f-88d5-89fe5cbee085"
      },
      "outputs": [
        {
          "output_type": "stream",
          "name": "stdout",
          "text": [
            "default index is \n",
            " RangeIndex(start=0, stop=5, step=1)\n",
            "The data is: \n",
            "    num names\n",
            "0    1    ah\n",
            "1    2    mo\n",
            "2    3    sa\n",
            "3    4    al\n",
            "4    5    ba\n",
            "New Data with index names: \n",
            "        num\n",
            "names     \n",
            "ah       1\n",
            "mo       2\n",
            "sa       3\n",
            "al       4\n",
            "ba       5\n"
          ]
        }
      ],
      "source": [
        "# image is not loading.\n",
        "import pandas as pd\n",
        "data = {'num':[1,2,3,4,5] , 'names' : [\"ah\" , \"mo\" , \"sa\" , \"al\" , \"ba\"]}\n",
        "df = pd.DataFrame(data)\n",
        "print(\"default index is \\n\" , df.index)\n",
        "print(\"The data is: \\n\",df)\n",
        "print(\"New Data with index names: \\n\", df.set_index('names'))\n"
      ]
    },
    {
      "cell_type": "markdown",
      "id": "7abf25f6",
      "metadata": {
        "id": "7abf25f6"
      },
      "source": [
        "#### 7. Write a Pandas program to display the default index and set a column as an Index in a given dataframe and then reset the index\n",
        "![image.png](attachment:image.png)"
      ]
    },
    {
      "cell_type": "code",
      "execution_count": 17,
      "id": "af599998",
      "metadata": {
        "colab": {
          "base_uri": "https://localhost:8080/"
        },
        "id": "af599998",
        "outputId": "013db338-f67c-41dd-b908-a6b19dc66137"
      },
      "outputs": [
        {
          "output_type": "stream",
          "name": "stdout",
          "text": [
            "default index is \n",
            " RangeIndex(start=0, stop=5, step=1)\n",
            "The data is: \n",
            "    num names\n",
            "0    1    ah\n",
            "1    2    mo\n",
            "2    3    sa\n",
            "3    4    al\n",
            "4    5    ba\n",
            "New Data with index names: \n",
            "        num\n",
            "names     \n",
            "ah       1\n",
            "mo       2\n",
            "sa       3\n",
            "al       4\n",
            "ba       5\n",
            "The Data with the default index reset: \n",
            "  <bound method DataFrame.reset_index of    num names\n",
            "0    1    ah\n",
            "1    2    mo\n",
            "2    3    sa\n",
            "3    4    al\n",
            "4    5    ba>\n"
          ]
        }
      ],
      "source": [
        "# image is not loading.\n",
        "import pandas as pd\n",
        "data = {'num':[1,2,3,4,5] , 'names' : [\"ah\" , \"mo\" , \"sa\" , \"al\" , \"ba\"]}\n",
        "df = pd.DataFrame(data)\n",
        "print(\"default index is \\n\" , df.index)\n",
        "print(\"The data is: \\n\",df)\n",
        "print(\"New Data with index names: \\n\", df.set_index('names'))\n",
        "print(\"The Data with the default index reset: \\n \", df.reset_index )"
      ]
    },
    {
      "cell_type": "markdown",
      "id": "ccd1f285",
      "metadata": {
        "id": "ccd1f285"
      },
      "source": [
        "#### 8. Write a Pandas program to create a dataframe indexing by date and time."
      ]
    },
    {
      "cell_type": "code",
      "execution_count": 26,
      "id": "ae9b488f",
      "metadata": {
        "colab": {
          "base_uri": "https://localhost:8080/"
        },
        "id": "ae9b488f",
        "outputId": "defcfa80-b78c-49b7-fb78-7afce757f87b"
      },
      "outputs": [
        {
          "output_type": "stream",
          "name": "stdout",
          "text": [
            "                     0\n",
            "2024-01-01 00:00:00  1\n",
            "2024-01-01 01:00:00  2\n",
            "2024-01-01 02:00:00  3\n",
            "2024-01-01 03:00:00  4\n",
            "2024-01-01 04:00:00  5\n",
            "2024-01-01 05:00:00  6\n"
          ]
        }
      ],
      "source": [
        "from datetime import datetime\n",
        "data = [1,2,3,4,5,6]\n",
        "dt = pd.date_range(start='2024-01-01', periods=6, freq = \"H\")\n",
        "d = pd.DataFrame(data, index=dt)\n",
        "print(d)\n"
      ]
    },
    {
      "cell_type": "markdown",
      "id": "f2682879",
      "metadata": {
        "id": "f2682879"
      },
      "source": [
        "#### 9. Write a Pandas program to create a dataframe and set a title or name of the index column.\n"
      ]
    },
    {
      "cell_type": "code",
      "execution_count": 27,
      "id": "640e5520",
      "metadata": {
        "colab": {
          "base_uri": "https://localhost:8080/"
        },
        "id": "640e5520",
        "outputId": "08880b73-42f3-4dae-9210-f45a521f4b41"
      },
      "outputs": [
        {
          "output_type": "stream",
          "name": "stdout",
          "text": [
            "    0\n",
            "ah  1\n",
            "mo  2\n",
            "sa  3\n",
            "al  4\n",
            "ba  5\n"
          ]
        }
      ],
      "source": [
        "data = [1,2,3,4,5]\n",
        "names = [\"ah\" , \"mo\" , \"sa\" , \"al\" , \"ba\"]\n",
        "d = pd.DataFrame(data, index=names)\n",
        "print(d)"
      ]
    },
    {
      "cell_type": "markdown",
      "id": "f5bc8bc0",
      "metadata": {
        "id": "f5bc8bc0"
      },
      "source": [
        "#### 10. Write a Pandas program to select a specific row of given series/dataframe by integer index."
      ]
    },
    {
      "cell_type": "code",
      "execution_count": 13,
      "id": "5242b441",
      "metadata": {
        "colab": {
          "base_uri": "https://localhost:8080/"
        },
        "id": "5242b441",
        "outputId": "e0c43d50-97c0-43ed-836e-57debc2a187b"
      },
      "outputs": [
        {
          "output_type": "stream",
          "name": "stdout",
          "text": [
            "    0\n",
            "0  ah\n",
            "1  mo\n",
            "2  sa\n",
            "3  al\n",
            "4  ba\n",
            "mo\n"
          ]
        }
      ],
      "source": [
        "import pandas as pd\n",
        "\n",
        "x = [\"ah\" , \"mo\" , \"sa\" , \"al\" , \"ba\"]\n",
        "xx = pd.DataFrame(x)\n",
        "print(xx)\n",
        "print(xx.iat[1,0])\n"
      ]
    }
  ],
  "metadata": {
    "kernelspec": {
      "display_name": "Python 3 (ipykernel)",
      "language": "python",
      "name": "python3"
    },
    "language_info": {
      "codemirror_mode": {
        "name": "ipython",
        "version": 3
      },
      "file_extension": ".py",
      "mimetype": "text/x-python",
      "name": "python",
      "nbconvert_exporter": "python",
      "pygments_lexer": "ipython3",
      "version": "3.10.9"
    },
    "colab": {
      "provenance": []
    }
  },
  "nbformat": 4,
  "nbformat_minor": 5
}